{
 "cells": [
  {
   "cell_type": "code",
   "execution_count": 2,
   "id": "9eab22a2",
   "metadata": {},
   "outputs": [],
   "source": [
    "import pandas as pd\n",
    "import os\n",
    "import sklearn"
   ]
  },
  {
   "cell_type": "code",
   "execution_count": 3,
   "id": "26106da3",
   "metadata": {},
   "outputs": [],
   "source": [
    "final_train = pd.read_csv(r\"G:\\Signature Verification Project\\MCYT 100 Dataset\\Processed\\new_processed\\final_train.csv\")\n",
    "\n",
    "final_test = pd.read_csv(r\"G:\\Signature Verification Project\\MCYT 100 Dataset\\Processed\\new_processed\\final_test.csv\")"
   ]
  },
  {
   "cell_type": "code",
   "execution_count": 4,
   "id": "466e5522",
   "metadata": {},
   "outputs": [
    {
     "data": {
      "text/plain": [
       "((75000, 27),\n",
       "       G_ID      G_X       G_Y  G_PRESSURE  G_AZIMUTH  G_ELEVATION  G_POSITION  \\\n",
       " 0  0000v00  2153.67  7658.796     697.583     63.417      129.039     7991.59   \n",
       " 1  0000v00  2153.67  7658.796     697.583     63.417      129.039     7991.59   \n",
       " 2  0000v00  2153.67  7658.796     697.583     63.417      129.039     7991.59   \n",
       " 3  0000v00  2153.67  7658.796     697.583     63.417      129.039     7991.59   \n",
       " 4  0000v00  2153.67  7658.796     697.583     63.417      129.039     7991.59   \n",
       " \n",
       "    G_DISPLACEMENT  G_VELOCITY  G_ANGULAR_VELOCITY  ...  FG_AZIMUTH  \\\n",
       " 0         201.165      20.116              -0.001  ...      64.386   \n",
       " 1         201.165      20.116              -0.001  ...      62.416   \n",
       " 2         201.165      20.116              -0.001  ...      63.204   \n",
       " 3         201.165      20.116              -0.001  ...      65.703   \n",
       " 4         201.165      20.116              -0.001  ...      63.354   \n",
       " \n",
       "    FG_ELEVATION  FG_POSITION FG_DISPLACEMENT  FG_VELOCITY  \\\n",
       " 0       118.426     8076.646         173.185       17.319   \n",
       " 1       110.327     6423.615         180.893       18.089   \n",
       " 2       108.230     4751.518         162.208       16.221   \n",
       " 3       110.901     3206.919         163.920       16.392   \n",
       " 4       132.748     2298.068         152.673       15.267   \n",
       " \n",
       "    FG_ANGULAR_VELOCITY  FG_ACCELERATION  FG_CENTRIPETAL_ACCELERATION  \\\n",
       " 0                0.000            1.732                        0.394   \n",
       " 1               -0.002            1.809                        0.468   \n",
       " 2               -0.001            1.622                        0.616   \n",
       " 3                0.000            1.639                        0.772   \n",
       " 4               -0.001            1.527                        0.508   \n",
       " \n",
       "    FG_TANGENTIAL_ACCELERATION  F_G  \n",
       " 0                       1.904  0.0  \n",
       " 1                       2.067  0.0  \n",
       " 2                       1.956  0.0  \n",
       " 3                       2.097  0.0  \n",
       " 4                       1.760  0.0  \n",
       " \n",
       " [5 rows x 27 columns])"
      ]
     },
     "execution_count": 4,
     "metadata": {},
     "output_type": "execute_result"
    }
   ],
   "source": [
    "final_train.shape, final_train.head()"
   ]
  },
  {
   "cell_type": "code",
   "execution_count": 5,
   "id": "a14e4972",
   "metadata": {},
   "outputs": [
    {
     "data": {
      "text/plain": [
       "((50000, 27),\n",
       "       G_ID       G_X      G_Y  G_PRESSURE  G_AZIMUTH  G_ELEVATION  G_POSITION  \\\n",
       " 0  0060v00  2886.766  7956.81     582.757     61.542      133.213    8524.225   \n",
       " 1  0060v00  2886.766  7956.81     582.757     61.542      133.213    8524.225   \n",
       " 2  0060v00  2886.766  7956.81     582.757     61.542      133.213    8524.225   \n",
       " 3  0060v00  2886.766  7956.81     582.757     61.542      133.213    8524.225   \n",
       " 4  0060v00  2886.766  7956.81     582.757     61.542      133.213    8524.225   \n",
       " \n",
       "    G_DISPLACEMENT  G_VELOCITY  G_ANGULAR_VELOCITY  ...  FG_AZIMUTH  \\\n",
       " 0           46.44       4.644                 0.0  ...      62.271   \n",
       " 1           46.44       4.644                 0.0  ...      60.032   \n",
       " 2           46.44       4.644                 0.0  ...      61.177   \n",
       " 3           46.44       4.644                 0.0  ...      64.820   \n",
       " 4           46.44       4.644                 0.0  ...      59.851   \n",
       " \n",
       "    FG_ELEVATION  FG_POSITION FG_DISPLACEMENT  FG_VELOCITY  \\\n",
       " 0       139.428     8477.620          45.497        4.550   \n",
       " 1       139.703     6947.990          39.390        3.939   \n",
       " 2       132.996     5351.627          42.346        4.235   \n",
       " 3       132.107     3925.718          42.721        4.272   \n",
       " 4       147.518     3035.689          41.608        4.161   \n",
       " \n",
       "    FG_ANGULAR_VELOCITY  FG_ACCELERATION  FG_CENTRIPETAL_ACCELERATION  \\\n",
       " 0                  0.0            0.455                        0.195   \n",
       " 1                  0.0            0.394                        0.162   \n",
       " 2                  0.0            0.423                        0.144   \n",
       " 3                  0.0            0.427                        0.168   \n",
       " 4                  0.0            0.416                        0.194   \n",
       " \n",
       "    FG_TANGENTIAL_ACCELERATION  F_G  \n",
       " 0                       0.531    0  \n",
       " 1                       0.459    0  \n",
       " 2                       0.467    0  \n",
       " 3                       0.479    0  \n",
       " 4                       0.493    0  \n",
       " \n",
       " [5 rows x 27 columns])"
      ]
     },
     "execution_count": 5,
     "metadata": {},
     "output_type": "execute_result"
    }
   ],
   "source": [
    "final_test.shape, final_test.head()"
   ]
  },
  {
   "cell_type": "code",
   "execution_count": 6,
   "id": "4104bb78",
   "metadata": {
    "scrolled": true
   },
   "outputs": [
    {
     "data": {
      "text/plain": [
       "Index(['G_ID', 'G_X', 'G_Y', 'G_PRESSURE', 'G_AZIMUTH', 'G_ELEVATION',\n",
       "       'G_POSITION', 'G_DISPLACEMENT', 'G_VELOCITY', 'G_ANGULAR_VELOCITY',\n",
       "       'G_ACCELERATION', 'G_CENTRIPETAL_ACCELERATION',\n",
       "       'G_TANGENTIAL_ACCELERATION', 'FG_ID', 'FG_X', 'FG_Y', 'FG_PRESSURE',\n",
       "       'FG_AZIMUTH', 'FG_ELEVATION', 'FG_POSITION', 'FG_DISPLACEMENT',\n",
       "       'FG_VELOCITY', 'FG_ANGULAR_VELOCITY', 'FG_ACCELERATION',\n",
       "       'FG_CENTRIPETAL_ACCELERATION', 'FG_TANGENTIAL_ACCELERATION', 'F_G'],\n",
       "      dtype='object')"
      ]
     },
     "execution_count": 6,
     "metadata": {},
     "output_type": "execute_result"
    }
   ],
   "source": [
    "final_test.columns"
   ]
  },
  {
   "cell_type": "code",
   "execution_count": 8,
   "id": "0a9de5e6",
   "metadata": {},
   "outputs": [
    {
     "name": "stdout",
     "output_type": "stream",
     "text": [
      "splitting complete\n"
     ]
    }
   ],
   "source": [
    "'''\n",
    "## splitting for train, test, eval\n",
    "train_y = final_train[\"f_g\"][:-1000]\n",
    "train_x = final_train.drop(\"f_g\", axis = 1)[:-1000]\n",
    "\n",
    "val_y = final_train[\"f_g\"][-1000:]\n",
    "val_x = final_train.drop(\"f_g\", axis = 1)[-1000:]\n",
    "\n",
    "test_y = final_test[\"f_g\"]\n",
    "test_x = final_test.drop(\"f_g\", axis = 1)\n",
    "\n",
    "print(\"splitting complete\")\n",
    "\n",
    "'''\n",
    "\n",
    "## splitting for train, test, eval\n",
    "train_y = final_train[\"F_G\"]\n",
    "train_x = final_train.drop([\"F_G\", \"FG_ID\", \"G_ID\"], axis = 1)\n",
    "\n",
    "test_y = final_test[\"F_G\"]\n",
    "test_x = final_test.drop([\"F_G\", \"FG_ID\", \"G_ID\"], axis = 1)\n",
    "\n",
    "print(\"splitting complete\")"
   ]
  },
  {
   "cell_type": "markdown",
   "id": "1accaeb0",
   "metadata": {},
   "source": [
    "## xgboost"
   ]
  },
  {
   "cell_type": "code",
   "execution_count": 9,
   "id": "e5773638",
   "metadata": {
    "scrolled": false
   },
   "outputs": [
    {
     "name": "stdout",
     "output_type": "stream",
     "text": [
      "model loaded\n"
     ]
    },
    {
     "name": "stderr",
     "output_type": "stream",
     "text": [
      "c:\\users\\dell\\appdata\\local\\programs\\python\\python37\\lib\\site-packages\\xgboost\\sklearn.py:1146: UserWarning: The use of label encoder in XGBClassifier is deprecated and will be removed in a future release. To remove this warning, do the following: 1) Pass option use_label_encoder=False when constructing XGBClassifier object; and 2) Encode your labels (y) as integers starting with 0, i.e. 0, 1, 2, ..., [num_class - 1].\n",
      "  warnings.warn(label_encoder_deprecation_msg, UserWarning)\n"
     ]
    },
    {
     "name": "stdout",
     "output_type": "stream",
     "text": [
      "[18:08:15] WARNING: C:/Users/Administrator/workspace/xgboost-win64_release_1.4.0/src/learner.cc:1095: Starting in XGBoost 1.3.0, the default evaluation metric used with the objective 'binary:logistic' was changed from 'error' to 'logloss'. Explicitly set eval_metric if you'd like to restore the old behavior.\n",
      "model trained\n",
      "pred complete\n",
      "Accuracy: 83.48%\n",
      "accuracy given\n"
     ]
    }
   ],
   "source": [
    "from xgboost import XGBClassifier\n",
    "\n",
    "# fit model no training data\n",
    "model = XGBClassifier()\n",
    "print(\"model loaded\")\n",
    "\n",
    "model.fit(train_x, train_y)\n",
    "print(\"model trained\")\n",
    "\n",
    "# make predictions for test data\n",
    "y_pred = model.predict(test_x)\n",
    "predictions = [round(value) for value in y_pred]\n",
    "print(\"pred complete\")\n",
    "\n",
    "# evaluate predictions\n",
    "accuracy = sklearn.metrics.accuracy_score(test_y, predictions)\n",
    "print(\"Accuracy: %.2f%%\" % (accuracy * 100.0))\n",
    "print(\"accuracy given\")\n"
   ]
  },
  {
   "cell_type": "markdown",
   "id": "1bbfffaa",
   "metadata": {},
   "source": [
    "## Gaussian Naive Bayes"
   ]
  },
  {
   "cell_type": "code",
   "execution_count": 10,
   "id": "9aad6b3c",
   "metadata": {},
   "outputs": [
    {
     "name": "stdout",
     "output_type": "stream",
     "text": [
      "Number of mislabeled points out of a total 50000 points : 23675\n"
     ]
    }
   ],
   "source": [
    "from sklearn.naive_bayes import GaussianNB\n",
    "\n",
    "gnb = GaussianNB()\n",
    "y_pred = gnb.fit(train_x, train_y).predict(test_x)\n",
    "\n",
    "print(\"Number of mislabeled points out of a total %d points : %d\" % (test_x.shape[0], (test_y != y_pred).sum()))"
   ]
  },
  {
   "cell_type": "code",
   "execution_count": 12,
   "id": "218cf8bd",
   "metadata": {},
   "outputs": [
    {
     "data": {
      "text/plain": [
       "-4.579853862212944"
      ]
     },
     "execution_count": 12,
     "metadata": {},
     "output_type": "execute_result"
    }
   ],
   "source": [
    "(23675-50000)/5748"
   ]
  },
  {
   "cell_type": "markdown",
   "id": "cc2fc413",
   "metadata": {},
   "source": [
    "## stacking using random forest and svm as base models and logistic regression as meta classifier"
   ]
  },
  {
   "cell_type": "code",
   "execution_count": 13,
   "id": "f6f9270a",
   "metadata": {},
   "outputs": [],
   "source": [
    "from mlxtend.classifier import StackingClassifier\n",
    "from sklearn.linear_model import LogisticRegression\n",
    "from sklearn import svm\n",
    "from sklearn.ensemble import RandomForestClassifier\n",
    "def stacking(x_train,y_train,x_test):\n",
    "    lr=LogisticRegression(random_state=0)\n",
    "    rf = RandomForestClassifier(random_state=0)\n",
    "    clf=svm.SVC(random_state=0)\n",
    "    sclf = StackingClassifier(classifiers=[clf,rf], \n",
    "                          meta_classifier=lr)\n",
    "    sclf.fit(x_train,y_train)\n",
    "    y1=sclf.predict(x_test)\n",
    "    return y1"
   ]
  },
  {
   "cell_type": "code",
   "execution_count": 14,
   "id": "3834ee6d",
   "metadata": {},
   "outputs": [],
   "source": [
    "y1 = stacking(train_x, train_y, test_x)"
   ]
  },
  {
   "cell_type": "code",
   "execution_count": 15,
   "id": "42945cf2",
   "metadata": {
    "scrolled": true
   },
   "outputs": [
    {
     "name": "stdout",
     "output_type": "stream",
     "text": [
      "Accuracy: 78.60%\n",
      "accuracy given\n"
     ]
    }
   ],
   "source": [
    "accuracy = sklearn.metrics.accuracy_score(test_y, y1)\n",
    "print(\"Accuracy: %.2f%%\" % (accuracy * 100.0))\n",
    "print(\"accuracy given\")"
   ]
  },
  {
   "cell_type": "markdown",
   "id": "fec71719",
   "metadata": {},
   "source": [
    "## Logistic Regression"
   ]
  },
  {
   "cell_type": "code",
   "execution_count": 17,
   "id": "329e59bb",
   "metadata": {},
   "outputs": [],
   "source": [
    "from sklearn.linear_model import LogisticRegression\n",
    "\n",
    "logisticRegr = LogisticRegression(max_iter = 1000000)"
   ]
  },
  {
   "cell_type": "code",
   "execution_count": 18,
   "id": "df16584a",
   "metadata": {},
   "outputs": [
    {
     "data": {
      "text/plain": [
       "LogisticRegression(max_iter=1000000)"
      ]
     },
     "execution_count": 18,
     "metadata": {},
     "output_type": "execute_result"
    }
   ],
   "source": [
    "logisticRegr.fit(train_x, train_y)"
   ]
  },
  {
   "cell_type": "code",
   "execution_count": 19,
   "id": "48c53842",
   "metadata": {},
   "outputs": [
    {
     "name": "stdout",
     "output_type": "stream",
     "text": [
      "0.8274182324286709\n"
     ]
    }
   ],
   "source": [
    "### Accuracy for Logistic Regression\n",
    "\n",
    "score = logisticRegr.score(test_x, test_y)\n",
    "print(score)"
   ]
  },
  {
   "cell_type": "code",
   "execution_count": 20,
   "id": "464ca7e0",
   "metadata": {},
   "outputs": [],
   "source": [
    "predictions = logisticRegr.predict(test_x)"
   ]
  },
  {
   "cell_type": "code",
   "execution_count": 21,
   "id": "2dd2d42f",
   "metadata": {},
   "outputs": [],
   "source": [
    "import matplotlib.pyplot as plt\n",
    "import seaborn as sns\n",
    "from sklearn import metrics"
   ]
  },
  {
   "cell_type": "code",
   "execution_count": 23,
   "id": "91cf7a52",
   "metadata": {},
   "outputs": [
    {
     "name": "stdout",
     "output_type": "stream",
     "text": [
      "[[2377  395]\n",
      " [ 597 2379]]\n"
     ]
    }
   ],
   "source": [
    "## Confusion Matrix\n",
    "\n",
    "cm = metrics.confusion_matrix(test_y, predictions)\n",
    "print(cm)"
   ]
  },
  {
   "cell_type": "code",
   "execution_count": 24,
   "id": "72a1c38b",
   "metadata": {
    "scrolled": false
   },
   "outputs": [
    {
     "data": {
      "image/png": "[encoded data removed]",
      "text/plain": [
       "<Figure size 648x648 with 2 Axes>"
      ]
     },
     "metadata": {
      "needs_background": "light"
     },
     "output_type": "display_data"
    }
   ],
   "source": [
    "plt.figure(figsize=(9,9))\n",
    "sns.heatmap(cm, annot=True, fmt=\".3f\", linewidths=.5, square = True, cmap = 'Blues_r');\n",
    "plt.ylabel('Actual label');\n",
    "plt.xlabel('Predicted label');\n",
    "all_sample_title = 'Accuracy Score: {0}'.format(score)\n",
    "plt.title(all_sample_title, size = 15);"
   ]
  }
 ],
 "metadata": {
  "kernelspec": {
   "display_name": "Python 3",
   "language": "python",
   "name": "python3"
  },
  "language_info": {
   "codemirror_mode": {
    "name": "ipython",
    "version": 3
   },
   "file_extension": ".py",
   "mimetype": "text/x-python",
   "name": "python",
   "nbconvert_exporter": "python",
   "pygments_lexer": "ipython3",
   "version": "3.7.8rc1"
  }
 },
 "nbformat": 4,
 "nbformat_minor": 5
}
